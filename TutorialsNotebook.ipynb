{
 "cells": [
  {
   "cell_type": "code",
   "execution_count": null,
   "metadata": {
    "collapsed": true
   },
   "outputs": [],
   "source": [
    "#Source Code Steps For Installation\n",
    "\n",
    "#1. Download Scipy Stack:\n",
    " sudo apt-get update\n",
    " sudo apt-get upgrade  \n",
    " sudo apt-get install python-numpy  python-matplotlib\n",
    "        python-pandas python-sympy python-nose python-scipy\n",
    "        \n",
    "        \n",
    "#2. Download opencv:\n",
    "\n",
    "# install basic development environment\n",
    "sudo apt-get install build-essential cmake pkg-config unzip\n",
    "# install opencv dependencies. \n",
    "sudo apt-get install libjpeg8-dev libtiff5-dev libjasper-dev libpng12-dev\n",
    "sudo apt-get install libavcodec-dev libavformat-dev libswscale-dev libv4l-dev\n",
    "sudo apt-get install libxvidcore-dev libx264-dev\n",
    "sudo apt-get install libgtk-3-dev\n",
    "sudo apt-get install libatlas-base-dev gfortran \n",
    "sudo apt-get build-dep libopencv-dev\n",
    "\n",
    "# additional dependencies for java support\n",
    "sudo apt-get install default-jdk ant\n",
    "\n",
    "\n",
    "cd ~\n",
    "wget -O opencv.zip https://github.com/Itseez/opencv/archive/3.1.0.zip\n",
    "unzip opencv.zip\n",
    "\n",
    "# compile opencv\n",
    "tar xzvf opencv-2.4.9.13.tar.gz\n",
    "cd opencv-2.4.9.13\n",
    "mkdir build\n",
    "cd build\n",
    "cmake -D CMAKE_BUILD_TYPE=RELEASE -D INSTALL_C_EXAMPLES=ON  \n",
    "        -D INSTALL_PYTHON_EXAMPLES=ON -D BUILD_EXAMPLES=ON\n",
    "        -D WITH_QT=ON -D CMAKE_INSTALL_PREFIX=/usr/local\n",
    "        -D WITH_OPENGL=ON -D WITH_V4L=ON -D WITH_CUDA=ON\n",
    "        -D BUILD_NEW_PYTHON_SUPPORT=ON -D WITH_TBB=ON ..\n",
    "        \n",
    "        \n",
    "make\n",
    "sudo make install\n",
    "\n",
    "sudo nano /etc/ld.so.conf.d/opencv.conf\n",
    "\n",
    "#type this into the file\n",
    "/usr/local/lib\n",
    "\n",
    "sudo ldconfig\n",
    "sudo nano /etc/bash.bashrc\n",
    "\n",
    "PKG_CONFIG_PATH=$PKG_CONFIG_PATH:/usr/local/lib/pkgconfig\n",
    "export PKG_CONFIG_PATH\n",
    "\n",
    "\n",
    "\n",
    "cd ~/OpenCV-2.4.9.13/samples/cpp\n",
    "\n",
    "\n",
    "#include <opencv2/opencv.hpp> //Include file for every supported OpenCV function\n",
    "\n",
    "\n",
    "int main( int argc, char** argv ) {\n",
    "\n",
    "    cv::Mat imgOriginal;\n",
    "\n",
    "    imgOriginal = cv::imread(\"building.jpg\"); \n",
    "\n",
    "\n",
    "    //cv::Mat img = cv::imread(\"building.jpg\");\n",
    "    if( imgOriginal.empty() ) return -1;\n",
    "    cv::namedWindow( \"Example1\", cv::WINDOW_AUTOSIZE );\n",
    "    cv::imshow( \"Example1\", imgOriginal );\n",
    "    cv::waitKey( 0 );\n",
    "    cv::destroyWindow( \"Example1\" );\n",
    "    return 0;\n",
    "}\n",
    "\n",
    "\n",
    "\n",
    "\n",
    "\n",
    " \n",
    "#try the examples and make sure they work\n",
    " \n",
    " python ~/OpenCV-2.4.6/samples/python2/turing.py\n",
    "#Link for people that are having problems with the different versions of Ubuntu: \n",
    "#http://answers.opencv.org/question/18226/opencv-java-build-error-in-ubuntu-1304/"
   ]
  },
  {
   "cell_type": "code",
   "execution_count": null,
   "metadata": {
    "collapsed": true
   },
   "outputs": [],
   "source": [
    "//tut1_dispImage.cpp\n",
    "\n",
    "#include <opencv2/opencv.hpp> //Include file for every supported OpenCV function\n",
    "using namespace cv;\n",
    "\t\n",
    "int main( int argc, char** argv ) {\n",
    "\n",
    "\tcv::Mat img = cv::imread(argv[1],-1);\n",
    "\tif( img.empty() ) return -1;\n",
    "\tcv::namedWindow( \"Example1\", cv::WINDOW_AUTOSIZE );\n",
    "\tcv::imshow( \"Example1\", img );\n",
    "\tcv::waitKey( 0 );\n",
    "\tcv::destroyWindow( \"Example1\" );\n",
    "\treturn 0;\n",
    "}"
   ]
  },
  {
   "cell_type": "code",
   "execution_count": null,
   "metadata": {
    "collapsed": true
   },
   "outputs": [],
   "source": [
    "When you compile the code using:\n",
    "    g++ tut1.cpp -o tut1 `pkg-config opencv --cflags --libs`"
   ]
  },
  {
   "cell_type": "code",
   "execution_count": null,
   "metadata": {
    "collapsed": true
   },
   "outputs": [],
   "source": [
    "from IPython.display import Image\n",
    "Image(filename='/home/cesco/youtube/vinny_paz.jpg')"
   ]
  },
  {
   "cell_type": "code",
   "execution_count": null,
   "metadata": {
    "collapsed": true
   },
   "outputs": [],
   "source": [
    "//tut2_dispVideo.cpp\n",
    "\n",
    "#include \"opencv2/opencv.hpp\"\n",
    "\n",
    "int main( int, char** ) {\n",
    "\n",
    "\tcv::namedWindow( \"Video Footage\", cv::WINDOW_AUTOSIZE );\n",
    "\tcv::VideoCapture cap(0);\n",
    "\tif(!cap.isOpened())\n",
    "\t\treturn -1;\n",
    "\n",
    "\t\n",
    "\tcv::Mat frame;\n",
    "\tfor(;;) \n",
    "\t{\n",
    "\t\tcap >> frame;\n",
    "\t\tcv::imshow( \"Video Footage\", frame );\n",
    "\t\tif( cv::waitKey(33) >= 0 ) break;\n",
    "\t}\n",
    "return 0;\n",
    "}"
   ]
  },
  {
   "cell_type": "code",
   "execution_count": null,
   "metadata": {
    "collapsed": true
   },
   "outputs": [],
   "source": [
    "//tut3_dispVideoFromFile.cpp\n",
    "\n",
    "#include <opencv2/opencv.hpp>\n",
    "\n",
    "using namespace std;\n",
    "using namespace cv;\n",
    "\n",
    "int main()\n",
    "{\n",
    "   VideoCapture cap(\"bleed.mp4\");\n",
    "\n",
    "if(!cap.isOpened())\n",
    "        return -1;\n",
    "\n",
    "    \n",
    "    cv::Mat frame;\n",
    "    for(;;) \n",
    "    {\n",
    "        cap >> frame;\n",
    "        cv::imshow( \"Video Footage\", frame );\n",
    "        if( cv::waitKey(33) >= 0 ) break;\n",
    "    }\n",
    "return 0;\n",
    "}\n"
   ]
  },
  {
   "cell_type": "code",
   "execution_count": null,
   "metadata": {
    "collapsed": true
   },
   "outputs": [],
   "source": [
    "from IPython.display import HTML\n",
    "HTML(\"\"\"\n",
    "<video width=\"420\" height=\"320\" controls>\n",
    "  <source src=\"bleed.mp4\" type=\"video/mp4\">\n",
    "</video>\n",
    "\"\"\")"
   ]
  },
  {
   "cell_type": "markdown",
   "metadata": {},
   "source": [
    "you can also take these videos in black and white, instead of using color. You can do this by running the following code:"
   ]
  },
  {
   "cell_type": "code",
   "execution_count": null,
   "metadata": {
    "collapsed": true
   },
   "outputs": [],
   "source": [
    "//tut4_dispVideoCameraBW.cpp\n",
    "\n",
    "#include \"opencv2/opencv.hpp\"\n",
    "\n",
    "int main(int, char**)\n",
    "{\n",
    "    cv::VideoCapture cap(0); \n",
    "    if(!cap.isOpened())  \n",
    "        return -1;\n",
    "\n",
    "    cv::Mat original;\n",
    "    cv::Mat gray;\n",
    "\n",
    "    cv::namedWindow(\"Original\",1);\n",
    "    cv::namedWindow(\"Gray\",1);\n",
    "    \n",
    "\tfor(;;)\n",
    "    {\n",
    "        cv::Mat frame;\n",
    "        cap >> frame; \n",
    "        cv::cvtColor(frame, original, CV_BGR2HSV);\n",
    "        cv::imshow(\"Original\", frame);\n",
    "\t\tcv::imshow(\"Gray\", original);\n",
    "        if(cv::waitKey(30) >= 0) break;\n",
    "    }\n",
    "\n",
    "    return 0;\n",
    "}"
   ]
  },
  {
   "cell_type": "markdown",
   "metadata": {
    "collapsed": true
   },
   "source": [
    "Now, that we know how to capture video live, or from a file, it will be useful to know how to also save it into a\n",
    "file once we are done.  We do this by executing the following code:"
   ]
  },
  {
   "cell_type": "code",
   "execution_count": null,
   "metadata": {
    "collapsed": true
   },
   "outputs": [],
   "source": [
    "//tut5_dispVideoSave.cpp\n",
    "\n",
    "#include \"opencv2/opencv.hpp\"\n",
    "\n",
    "using namespace std;\n",
    "\n",
    "int main()\n",
    "{\n",
    "\n",
    "    cv::VideoCapture cap(0); \n",
    "        if(!cap.isOpened())\n",
    "        {\n",
    "            cout << \"Cannot seem to open the file\" << endl;\n",
    "            return -1;\n",
    "        }\n",
    "\n",
    "    int frame_width=   cap.get(CV_CAP_PROP_FRAME_WIDTH);\n",
    "    int frame_height=  cap.get(CV_CAP_PROP_FRAME_HEIGHT);\n",
    "    cv::VideoWriter video(\"output_video.avi\",CV_FOURCC('M','J','P','G'),\n",
    "                    10, cv::Size(frame_width,frame_height),true);\n",
    "\n",
    "    for(;;)\n",
    "        {\n",
    "            cv::Mat frame;\n",
    "            cap >> frame;\n",
    "            video.write(frame);\n",
    "            cv::imshow( \"Video Frame\", frame );\n",
    "            char c = (char)cv::waitKey(27);\n",
    "            if( c == 27 ) break;\n",
    "        }\n",
    "  return 0;\n",
    "}\n"
   ]
  },
  {
   "cell_type": "code",
   "execution_count": null,
   "metadata": {
    "collapsed": true
   },
   "outputs": [],
   "source": []
  },
  {
   "cell_type": "code",
   "execution_count": null,
   "metadata": {
    "collapsed": true
   },
   "outputs": [],
   "source": []
  },
  {
   "cell_type": "code",
   "execution_count": null,
   "metadata": {
    "collapsed": true
   },
   "outputs": [],
   "source": []
  },
  {
   "cell_type": "code",
   "execution_count": null,
   "metadata": {
    "collapsed": true
   },
   "outputs": [],
   "source": []
  }
 ],
 "metadata": {
  "kernelspec": {
   "display_name": "Python 2",
   "language": "python",
   "name": "python2"
  },
  "language_info": {
   "codemirror_mode": {
    "name": "ipython",
    "version": 2
   },
   "file_extension": ".py",
   "mimetype": "text/x-python",
   "name": "python",
   "nbconvert_exporter": "python",
   "pygments_lexer": "ipython2",
   "version": "2.7.12"
  }
 },
 "nbformat": 4,
 "nbformat_minor": 2
}
